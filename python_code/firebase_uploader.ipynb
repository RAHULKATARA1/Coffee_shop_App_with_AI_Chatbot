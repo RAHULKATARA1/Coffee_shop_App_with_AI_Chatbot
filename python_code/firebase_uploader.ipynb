{
 "cells": [
  {
   "cell_type": "code",
   "execution_count": 15,
   "metadata": {},
   "outputs": [
    {
     "data": {
      "text/plain": [
       "True"
      ]
     },
     "execution_count": 15,
     "metadata": {},
     "output_type": "execute_result"
    }
   ],
   "source": [
    "import firebase_admin\n",
    "from firebase_admin import credentials, storage\n",
    "from firebase_admin import db\n",
    "import pandas as pd\n",
    "import os\n",
    "import dotenv\n",
    "dotenv.load_dotenv()"
   ]
  },
  {
   "cell_type": "markdown",
   "metadata": {},
   "source": [
    "\n",
    "Firebase Init"
   ]
  },
  {
   "cell_type": "code",
   "execution_count": 16,
   "metadata": {},
   "outputs": [],
   "source": [
    "service_account_info ={\n",
    "    \"type\": os.getenv('FIREBASE_TYPE'),\n",
    "    \"project_id\": os.getenv('FIREBASE_PROJECT_ID'),\n",
    "    \"private_key_id\": os.getenv('FIREBASE_PRIVATE_KEY_ID'),\n",
    "    \"private_key\": os.getenv('FIREBASE_PRIVATE_KEY'),\n",
    "    \"client_email\": os.getenv('FIREBASE_CLIENT_EMAIL'),\n",
    "    \"client_id\": os.getenv('FIREBASE_CLIENT_ID'),\n",
    "    \"auth_uri\": os.getenv('FIREBASE_AUTH_URI'),\n",
    "    \"token_uri\": os.getenv('FIREBASE_TOKEN_URI'),\n",
    "    \"auth_provider_x509_cert_url\": os.getenv('FIREBASE_AUTH_PROVIDER_X509_CERT_URL'),\n",
    "    \"client_x509_cert_url\": os.getenv('FIREBASE_CLIENT_X509_CERT_URL'),\n",
    "    \"universe_domain\": os.getenv('FIREBASE_UNIVERSE_DOMAIN')\n",
    "  }"
   ]
  }
 ],
 "metadata": {
  "kernelspec": {
   "display_name": "Python 3",
   "language": "python",
   "name": "python3"
  },
  "language_info": {
   "codemirror_mode": {
    "name": "ipython",
    "version": 3
   },
   "file_extension": ".py",
   "mimetype": "text/x-python",
   "name": "python",
   "nbconvert_exporter": "python",
   "pygments_lexer": "ipython3",
   "version": "3.13.0"
  }
 },
 "nbformat": 4,
 "nbformat_minor": 2
}
